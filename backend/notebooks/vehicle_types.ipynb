{
 "cells": [
  {
   "cell_type": "code",
   "execution_count": 2,
   "id": "1bfd27f1",
   "metadata": {},
   "outputs": [
    {
     "name": "stdout",
     "output_type": "stream",
     "text": [
      "        model  motor_volume      motor_type               type\n",
      "1505  hyundai           1.6          hybrid              sedan\n",
      "1139  hyundai           1.6          petrol          hatchback\n",
      "16    hyundai           1.6          petrol              sedan\n",
      "506   hyundai           1.8             gas              sedan\n",
      "195   hyundai           1.8          petrol              Coupe\n",
      "...       ...           ...             ...                ...\n",
      "1036   toyota           2.0          petrol          hatchback\n",
      "1530   toyota           2.0          petrol  minivan / minibus\n",
      "0      toyota           2.0          petrol              sedan\n",
      "813    toyota           2.0          petrol                suv\n",
      "925    toyota           2.0  petrol and gas              sedan\n",
      "\n",
      "[93 rows x 4 columns]\n"
     ]
    }
   ],
   "source": [
    "import pandas as pd\n",
    "\n",
    "# Load your CSV\n",
    "df = pd.read_csv('../data/train.csv')\n",
    "\n",
    "# Clean or rename columns as needed (example column names used here)\n",
    "# e.g., model, motor_volume, motor_type, type\n",
    "\n",
    "# Extract unique combinations\n",
    "unique_models = df[['model', 'motor_volume', 'motor_type', 'type']].drop_duplicates()\n",
    "\n",
    "# Optional: Sort them\n",
    "unique_models = unique_models.sort_values(by=['model', 'motor_volume', 'motor_type', 'type'])\n",
    "\n",
    "# Show result\n",
    "print(unique_models)"
   ]
  },
  {
   "cell_type": "code",
   "execution_count": null,
   "id": "85eee84c",
   "metadata": {},
   "outputs": [
    {
     "name": "stdout",
     "output_type": "stream",
     "text": [
      "         motor_type\n",
      "1            petrol\n",
      "39              gas\n",
      "96   petrol and gas\n",
      "429          diesel\n"
     ]
    }
   ],
   "source": [
    "filtered = df[df['model'] == 'mercedes-benz']\n",
    "unique_mercedes_models = filtered[['motor_volume', 'motor_type', 'type']].drop_duplicates()\n",
    "print(unique_mercedes_models)"
   ]
  },
  {
   "cell_type": "code",
   "execution_count": null,
   "id": "4904a46d",
   "metadata": {},
   "outputs": [
    {
     "name": "stdout",
     "output_type": "stream",
     "text": [
      "          motor_type\n",
      "9             petrol\n",
      "130   petrol and gas\n",
      "190              gas\n",
      "1505          hybrid\n"
     ]
    }
   ],
   "source": [
    "filtered = df[df['model'] == 'hyundai']\n",
    "unique_mercedes_models = filtered[['motor_volume', 'motor_type', 'type']].drop_duplicates()\n",
    "print(unique_mercedes_models)"
   ]
  },
  {
   "cell_type": "code",
   "execution_count": null,
   "id": "52832fcf",
   "metadata": {},
   "outputs": [
    {
     "name": "stdout",
     "output_type": "stream",
     "text": [
      "         motor_type\n",
      "6            petrol\n",
      "388  petrol and gas\n",
      "664             gas\n"
     ]
    }
   ],
   "source": [
    "filtered = df[df['model'] == 'nissan']\n",
    "unique_mercedes_models = filtered[['motor_volume', 'motor_type', 'type']].drop_duplicates()\n",
    "print(unique_mercedes_models)"
   ]
  },
  {
   "cell_type": "code",
   "execution_count": null,
   "id": "4845276d",
   "metadata": {},
   "outputs": [
    {
     "name": "stdout",
     "output_type": "stream",
     "text": [
      "         motor_type\n",
      "0            petrol\n",
      "17              gas\n",
      "186  petrol and gas\n"
     ]
    }
   ],
   "source": [
    "filtered = df[df['model'] == 'toyota']\n",
    "unique_mercedes_models = filtered[['type']].drop_duplicates()\n",
    "print(unique_mercedes_models)"
   ]
  },
  {
   "cell_type": "code",
   "execution_count": 23,
   "id": "15071a40",
   "metadata": {},
   "outputs": [
    {
     "name": "stdout",
     "output_type": "stream",
     "text": [
      "      motor_volume\n",
      "2              2.0\n",
      "95             1.8\n",
      "185            1.6\n",
      "852            0.2\n",
      "1374           2.4\n"
     ]
    }
   ],
   "source": [
    "filtered = df[df['model'] == 'kia']\n",
    "unique_mercedes_models = filtered[['motor_volume']].drop_duplicates()\n",
    "print(unique_mercedes_models)"
   ]
  }
 ],
 "metadata": {
  "kernelspec": {
   "display_name": ".venv",
   "language": "python",
   "name": "python3"
  },
  "language_info": {
   "codemirror_mode": {
    "name": "ipython",
    "version": 3
   },
   "file_extension": ".py",
   "mimetype": "text/x-python",
   "name": "python",
   "nbconvert_exporter": "python",
   "pygments_lexer": "ipython3",
   "version": "3.13.5"
  }
 },
 "nbformat": 4,
 "nbformat_minor": 5
}
